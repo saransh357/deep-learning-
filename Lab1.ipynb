{
  "nbformat": 4,
  "nbformat_minor": 0,
  "metadata": {
    "colab": {
      "provenance": []
    },
    "kernelspec": {
      "name": "python3",
      "display_name": "Python 3"
    },
    "language_info": {
      "name": "python"
    }
  },
  "cells": [
    {
      "cell_type": "code",
      "execution_count": null,
      "metadata": {
        "colab": {
          "base_uri": "https://localhost:8080/"
        },
        "id": "kQGj-wsCvjkQ",
        "outputId": "3773cb3f-fb4e-4c3e-cd5b-f72c71c55470"
      },
      "outputs": [
        {
          "output_type": "stream",
          "name": "stdout",
          "text": [
            "Keys in the HDF5 file:\n",
            "['images', 'labels']\n",
            "Keys in the HDF5 file:\n",
            "['images', 'labels']\n"
          ]
        }
      ],
      "source": [
        "import h5py\n",
        "\n",
        "def inspect_h5_file(file_path):\n",
        "    with h5py.File(file_path, 'r') as file:\n",
        "        print(\"Keys in the HDF5 file:\")\n",
        "        print(list(file.keys()))\n",
        "\n",
        "inspect_h5_file('/content/drive/MyDrive/Train.h5')\n",
        "inspect_h5_file('/content/drive/MyDrive/Test.h5')"
      ]
    },
    {
      "cell_type": "markdown",
      "source": [
        "1. Load and preprocess the data."
      ],
      "metadata": {
        "id": "XTr5NwuMxcFC"
      }
    },
    {
      "cell_type": "code",
      "source": [
        "import numpy as np\n",
        "def load_data(train_path, test_path):\n",
        "    with h5py.File(train_path, 'r') as train_file:\n",
        "        X_train = np.array(train_file['images'][:])\n",
        "        y_train = np.array(train_file['labels'][:])\n",
        "    with h5py.File(test_path, 'r') as test_file:\n",
        "        X_test = np.array(test_file['images'][:])\n",
        "        y_test = np.array(test_file['labels'][:])\n",
        "    return X_train, y_train, X_test, y_test"
      ],
      "metadata": {
        "id": "yoSTzJVbwTke"
      },
      "execution_count": null,
      "outputs": []
    },
    {
      "cell_type": "code",
      "source": [
        "X_train, y_train, X_test, y_test = load_data('/content/drive/MyDrive/Train.h5', '/content/drive/MyDrive/Test.h5')"
      ],
      "metadata": {
        "id": "F6737z14wqGl"
      },
      "execution_count": null,
      "outputs": []
    },
    {
      "cell_type": "code",
      "source": [
        "def preprocess_data(X):\n",
        "    X_flatten = X.reshape(X.shape[0], -1).T\n",
        "    X_norm = X_flatten / 255.\n",
        "    return X_norm\n",
        "\n",
        "X_train = preprocess_data(X_train)\n",
        "X_test = preprocess_data(X_test)"
      ],
      "metadata": {
        "id": "7YGUidITwwFs"
      },
      "execution_count": null,
      "outputs": []
    },
    {
      "cell_type": "code",
      "source": [
        "print(\"Shape of X_train:\", X_train.shape)\n",
        "print(\"Shape of y_train:\", y_train.shape)"
      ],
      "metadata": {
        "colab": {
          "base_uri": "https://localhost:8080/"
        },
        "id": "lhZ7pQPjzJbp",
        "outputId": "c5a1dfd5-a316-480a-e45b-18523f1dd513"
      },
      "execution_count": null,
      "outputs": [
        {
          "output_type": "stream",
          "name": "stdout",
          "text": [
            "Shape of X_train: (49152, 2626)\n",
            "Shape of y_train: (2626,)\n"
          ]
        }
      ]
    },
    {
      "cell_type": "code",
      "source": [
        "def one_hot_encoding(y, num_classes):\n",
        "    m = y.shape[0]\n",
        "    one_hot = np.zeros((num_classes, m))\n",
        "    one_hot[y, np.arange(m)] = 1\n",
        "    return one_hot"
      ],
      "metadata": {
        "id": "Uyd99AKEw6h8"
      },
      "execution_count": null,
      "outputs": []
    },
    {
      "cell_type": "code",
      "source": [
        "# Assuming the labels range from 0 to num_classes-1\n",
        "num_classes = np.max(y_train) + 1\n",
        "y_train_one_hot = one_hot_encoding(y_train, num_classes)  # Shape should be (5, 2626)\n",
        "y_test_one_hot = one_hot_encoding(y_test, num_classes)    # Shape should be (5, number_of_test_samples)\n",
        "\n",
        "print(\"Shape of y_train_one_hot:\", y_train_one_hot.shape)"
      ],
      "metadata": {
        "colab": {
          "base_uri": "https://localhost:8080/"
        },
        "id": "H_5O2hX3zWGH",
        "outputId": "a4306c4d-3ea0-4f66-ed75-01f2c0e75609"
      },
      "execution_count": null,
      "outputs": [
        {
          "output_type": "stream",
          "name": "stdout",
          "text": [
            "Shape of y_train_one_hot: (5, 2626)\n"
          ]
        }
      ]
    },
    {
      "cell_type": "markdown",
      "source": [
        "2. Implement the softmax activation function."
      ],
      "metadata": {
        "id": "T_DTQVS2xhZk"
      }
    },
    {
      "cell_type": "code",
      "source": [
        "def softmax(Z):\n",
        "    expZ = np.exp(Z - np.max(Z, axis=0, keepdims=True))\n",
        "    return expZ / np.sum(expZ, axis=0, keepdims=True)"
      ],
      "metadata": {
        "id": "hLdAsZuLzjJQ"
      },
      "execution_count": null,
      "outputs": []
    },
    {
      "cell_type": "markdown",
      "source": [
        "3. Define the cost function for multi-class classification."
      ],
      "metadata": {
        "id": "7OrM8oQnxkGW"
      }
    },
    {
      "cell_type": "code",
      "source": [
        "def compute_cost(AL, Y):\n",
        "    m = Y.shape[1]\n",
        "    cost = -np.sum(Y * np.log(AL + 1e-8)) / m\n",
        "    return cost"
      ],
      "metadata": {
        "id": "1BFE8SpNxCPN"
      },
      "execution_count": null,
      "outputs": []
    },
    {
      "cell_type": "markdown",
      "source": [
        "4. Implement the gradient descent algorithm to update the model parameters."
      ],
      "metadata": {
        "id": "D82YYEs2xmQ4"
      }
    },
    {
      "cell_type": "code",
      "source": [
        "def gradient_descent(X, Y, learning_rate, num_iterations):\n",
        "    n_x = X.shape[0]\n",
        "    n_y = Y.shape[0]\n",
        "    m = X.shape[1]\n",
        "\n",
        "    W = np.random.randn(n_y, n_x) * 0.01\n",
        "    b = np.zeros((n_y, 1))\n",
        "\n",
        "    for i in range(num_iterations):\n",
        "        Z = np.dot(W, X) + b\n",
        "        A = softmax(Z)\n",
        "\n",
        "        cost = compute_cost(A, Y)\n",
        "\n",
        "        dZ = A - Y\n",
        "        dW = np.dot(dZ, X.T) / m\n",
        "        db = np.sum(dZ, axis=1, keepdims=True) / m\n",
        "\n",
        "        W -= learning_rate * dW\n",
        "        b -= learning_rate * db\n",
        "\n",
        "        if i % 100 == 0:\n",
        "            print(f\"Cost after iteration {i}: {cost}\")\n",
        "\n",
        "    return W, b"
      ],
      "metadata": {
        "id": "YDmxLKLqxIui"
      },
      "execution_count": null,
      "outputs": []
    },
    {
      "cell_type": "markdown",
      "source": [
        "5. Test the model on the test set and evaluate its performance."
      ],
      "metadata": {
        "id": "3tw_3SWjxosp"
      }
    },
    {
      "cell_type": "code",
      "source": [
        "def predict(X, W, b):\n",
        "    Z = np.dot(W, X) + b\n",
        "    AL = softmax(Z)\n",
        "    return np.argmax(AL, axis=0)"
      ],
      "metadata": {
        "id": "fFL-KcaVxKP8"
      },
      "execution_count": null,
      "outputs": []
    },
    {
      "cell_type": "code",
      "source": [
        "# Train the model on lr = 0.01 and iterations = 1000\n",
        "W, b = gradient_descent(X_train, y_train_one_hot, learning_rate=0.01, num_iterations=1000)\n",
        "\n",
        "# Test the model\n",
        "predictions = predict(X_test, W, b)\n",
        "accuracy = np.mean(predictions == np.argmax(y_test_one_hot, axis=0))\n",
        "print(f\"Accuracy on test set: {accuracy * 100}%\")"
      ],
      "metadata": {
        "colab": {
          "base_uri": "https://localhost:8080/"
        },
        "id": "sfjcxshbxL0W",
        "outputId": "d3390913-0cf1-4512-e7a3-fcbeaa35b337"
      },
      "execution_count": null,
      "outputs": [
        {
          "output_type": "stream",
          "name": "stdout",
          "text": [
            "Cost after iteration 0: 2.2909326209920553\n",
            "Cost after iteration 100: 8.710073597059846\n",
            "Cost after iteration 200: 9.962969627141593\n",
            "Cost after iteration 300: 7.628248610735271\n",
            "Cost after iteration 400: 5.206622414683755\n",
            "Cost after iteration 500: 3.23503395593863\n",
            "Cost after iteration 600: 5.73247481443108\n",
            "Cost after iteration 700: 4.412486032726907\n",
            "Cost after iteration 800: 7.544214400067103\n",
            "Cost after iteration 900: 7.934580078989827\n",
            "Accuracy on test set: 44.166666666666664%\n"
          ]
        }
      ]
    },
    {
      "cell_type": "code",
      "source": [
        "# Train the model on lr = 0.001 and iterations = 2000\n",
        "W, b = gradient_descent(X_train, y_train_one_hot, learning_rate=0.001, num_iterations=2000)\n",
        "\n",
        "# Test the model\n",
        "predictions = predict(X_test, W, b)\n",
        "accuracy = np.mean(predictions == np.argmax(y_test_one_hot, axis=0))\n",
        "print(f\"Accuracy on test set: {accuracy * 100}%\")"
      ],
      "metadata": {
        "id": "LWxcUXOtxa1y",
        "colab": {
          "base_uri": "https://localhost:8080/"
        },
        "outputId": "cde3c953-5618-4315-b4f3-519d1372d3b6"
      },
      "execution_count": null,
      "outputs": [
        {
          "output_type": "stream",
          "name": "stdout",
          "text": [
            "Cost after iteration 0: 1.7753530391002523\n",
            "Cost after iteration 100: 1.2917167718358047\n",
            "Cost after iteration 200: 1.212072444970203\n",
            "Cost after iteration 300: 1.1648535879031712\n",
            "Cost after iteration 400: 1.1291825994721794\n",
            "Cost after iteration 500: 1.0994674881862083\n",
            "Cost after iteration 600: 1.0735010905263709\n",
            "Cost after iteration 700: 1.0501835489603142\n",
            "Cost after iteration 800: 1.0288760919097169\n",
            "Cost after iteration 900: 1.0091674212180248\n",
            "Cost after iteration 1000: 0.9907731624774994\n",
            "Cost after iteration 1100: 0.9734864590034663\n",
            "Cost after iteration 1200: 0.9571510736762607\n",
            "Cost after iteration 1300: 0.9416455257845279\n",
            "Cost after iteration 1400: 0.9268731335555236\n",
            "Cost after iteration 1500: 0.9127554515794882\n",
            "Cost after iteration 1600: 0.89922777664378\n",
            "Cost after iteration 1700: 0.8862359744208581\n",
            "Cost after iteration 1800: 0.8737341821951362\n",
            "Cost after iteration 1900: 0.8616831107216487\n",
            "Accuracy on test set: 49.166666666666664%\n"
          ]
        }
      ]
    },
    {
      "cell_type": "code",
      "source": [],
      "metadata": {
        "id": "57cYb0C7I-YW"
      },
      "execution_count": null,
      "outputs": []
    }
  ]
}